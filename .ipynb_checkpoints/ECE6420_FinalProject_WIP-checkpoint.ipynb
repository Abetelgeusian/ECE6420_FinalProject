{
 "cells": [
  {
   "cell_type": "markdown",
   "id": "4f9dccbf",
   "metadata": {},
   "source": [
    "### IF you guys have any suggestions at all, or better way to do this, or do not want to do this way, please speak up, we can do it that way too.\n",
    "#### Hey Guys! If everyone is okay, this will be our main document.\n",
    "#### Remember to pull before you start working.\n",
    "#### I will recommend that each of us have two copies of this ipynb.\n",
    "#### One will be your personal, whatever work you do will be there. It will serve as scratchpad of sorts.\n",
    "#### Once you are done, you can do git pull, copy paste your work in the main document, beautify it and then push. This way we wont have any trouble with version controlling.\n"
   ]
  },
  {
   "cell_type": "code",
   "execution_count": null,
   "id": "6da57d1f",
   "metadata": {},
   "outputs": [],
   "source": []
  }
 ],
 "metadata": {
  "kernelspec": {
   "display_name": "Python 3 (ipykernel)",
   "language": "python",
   "name": "python3"
  },
  "language_info": {
   "codemirror_mode": {
    "name": "ipython",
    "version": 3
   },
   "file_extension": ".py",
   "mimetype": "text/x-python",
   "name": "python",
   "nbconvert_exporter": "python",
   "pygments_lexer": "ipython3",
   "version": "3.9.7"
  }
 },
 "nbformat": 4,
 "nbformat_minor": 5
}
