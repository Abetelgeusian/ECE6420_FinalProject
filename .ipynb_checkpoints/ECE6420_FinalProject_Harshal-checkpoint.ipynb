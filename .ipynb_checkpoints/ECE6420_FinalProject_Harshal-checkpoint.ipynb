{
 "cells": [
  {
   "cell_type": "markdown",
   "id": "15d57066",
   "metadata": {},
   "source": [
    "Project checkpoint 1 (15%): For this milestone, you will need to have downloaded the data, and\n",
    "also run some initial pre-processing on it. You should also make at least one dummy submission\n",
    "(all-positive, all-negative, most-frequency) on Kaggle and submit the Jupyter Notebook including\n",
    "the code and a screenshot of the score on Canvas."
   ]
  },
  {
   "cell_type": "code",
   "execution_count": null,
   "id": "c6c826ca",
   "metadata": {},
   "outputs": [],
   "source": [
    "import matplotlib.pyplot as plt\n",
    "import numpy as np\n",
    "import pandas as pd\n",
    "from sklearn.compose import ColumnTransformer, make_column_transformer\n",
    "from sklearn.dummy import DummyClassifier\n",
    "from sklearn.impute import SimpleImputer\n",
    "from sklearn.model_selection import cross_val_score, cross_validate, train_test_split\n",
    "from sklearn.neighbors import KNeighborsClassifier\n",
    "from sklearn.pipeline import Pipeline, make_pipeline\n",
    "from sklearn.preprocessing import OneHotEncoder, StandardScaler, OrdinalEncoder\n",
    "from sklearn.tree import DecisionTreeClassifier\n",
    "import warnings"
   ]
  }
 ],
 "metadata": {
  "kernelspec": {
   "display_name": "Python 3 (ipykernel)",
   "language": "python",
   "name": "python3"
  },
  "language_info": {
   "codemirror_mode": {
    "name": "ipython",
    "version": 3
   },
   "file_extension": ".py",
   "mimetype": "text/x-python",
   "name": "python",
   "nbconvert_exporter": "python",
   "pygments_lexer": "ipython3",
   "version": "3.9.7"
  }
 },
 "nbformat": 4,
 "nbformat_minor": 5
}
